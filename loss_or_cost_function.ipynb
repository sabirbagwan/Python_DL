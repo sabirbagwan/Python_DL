{
 "cells": [
  {
   "cell_type": "markdown",
   "id": "bccbf31f",
   "metadata": {},
   "source": [
    "# Mean Absolute error"
   ]
  },
  {
   "cell_type": "markdown",
   "id": "32827106",
   "metadata": {},
   "source": [
    "## Using Function"
   ]
  },
  {
   "cell_type": "code",
   "execution_count": 8,
   "id": "e85a6e84",
   "metadata": {},
   "outputs": [],
   "source": [
    "import numpy as np \n",
    "\n",
    "y_predicted = np.array([1, 1, 0, 0, 1])\n",
    "y_true = np.array([0.3, 0.7, 1, 0, 0.5])"
   ]
  },
  {
   "cell_type": "code",
   "execution_count": 9,
   "id": "b2333434",
   "metadata": {},
   "outputs": [],
   "source": [
    "def mae(y_true, y_predicted):\n",
    "    total_error = 0\n",
    "    for yt, yp in zip(y_true, y_predicted):\n",
    "        total_error += abs(yt - yp)\n",
    "    print('Total error: ', total_error)\n",
    "    \n",
    "    mae = total_error/ len(y_predicted)\n",
    "    print('Mae: ', mae)\n",
    "#     return mae"
   ]
  },
  {
   "cell_type": "code",
   "execution_count": 10,
   "id": "81f6be88",
   "metadata": {},
   "outputs": [
    {
     "name": "stdout",
     "output_type": "stream",
     "text": [
      "Total error:  2.5\n",
      "Mae:  0.5\n"
     ]
    }
   ],
   "source": [
    "mae(y_true, y_predicted)"
   ]
  },
  {
   "cell_type": "markdown",
   "id": "12db8b68",
   "metadata": {},
   "source": [
    "## Using Numpy array operation"
   ]
  },
  {
   "cell_type": "code",
   "execution_count": 11,
   "id": "45b17c89",
   "metadata": {},
   "outputs": [
    {
     "data": {
      "text/plain": [
       "0.5"
      ]
     },
     "execution_count": 11,
     "metadata": {},
     "output_type": "execute_result"
    }
   ],
   "source": [
    "np.mean(np.abs(y_true - y_predicted))"
   ]
  },
  {
   "cell_type": "code",
   "execution_count": 12,
   "id": "077c4b47",
   "metadata": {},
   "outputs": [
    {
     "data": {
      "text/plain": [
       "2.5"
      ]
     },
     "execution_count": 12,
     "metadata": {},
     "output_type": "execute_result"
    }
   ],
   "source": [
    "np.sum(np.abs(y_true - y_predicted))"
   ]
  },
  {
   "cell_type": "code",
   "execution_count": null,
   "id": "ddedbe7e",
   "metadata": {},
   "outputs": [],
   "source": []
  },
  {
   "cell_type": "markdown",
   "id": "e783fe4e",
   "metadata": {},
   "source": [
    "# log loss / binary_crossentropy"
   ]
  },
  {
   "cell_type": "code",
   "execution_count": 21,
   "id": "7d7405c0",
   "metadata": {},
   "outputs": [
    {
     "name": "stderr",
     "output_type": "stream",
     "text": [
      "C:\\Users\\sabir\\AppData\\Local\\Temp\\ipykernel_8820\\815880036.py:1: RuntimeWarning: divide by zero encountered in log\n",
      "  np.log(y_predicted)\n"
     ]
    },
    {
     "data": {
      "text/plain": [
       "array([  0.,   0., -inf, -inf,   0.])"
      ]
     },
     "execution_count": 21,
     "metadata": {},
     "output_type": "execute_result"
    }
   ],
   "source": [
    "np.log(y_predicted)"
   ]
  },
  {
   "cell_type": "code",
   "execution_count": 14,
   "id": "d441dc7d",
   "metadata": {},
   "outputs": [],
   "source": [
    "## log of 0 is undefined thats why make all the values in y_predicted such that any subtraction from y_true will not give\n",
    "## the value zero..... and for that we use epsilon"
   ]
  },
  {
   "cell_type": "code",
   "execution_count": 15,
   "id": "fc6b22a4",
   "metadata": {},
   "outputs": [],
   "source": [
    "epsilon = 1e-15"
   ]
  },
  {
   "cell_type": "code",
   "execution_count": 20,
   "id": "11193580",
   "metadata": {},
   "outputs": [
    {
     "name": "stdout",
     "output_type": "stream",
     "text": [
      "[1 1 0 0 1]\n",
      "[1, 1, 1e-15, 1e-15, 1]\n"
     ]
    }
   ],
   "source": [
    "y_predicted_new = [max(i, epsilon) for i in y_predicted]\n",
    "print(y_predicted)\n",
    "print(y_predicted_new)"
   ]
  },
  {
   "cell_type": "code",
   "execution_count": 18,
   "id": "ba9aa5d9",
   "metadata": {},
   "outputs": [
    {
     "data": {
      "text/plain": [
       "[0.999999999999999, 0.999999999999999, 1e-15, 1e-15, 0.999999999999999]"
      ]
     },
     "execution_count": 18,
     "metadata": {},
     "output_type": "execute_result"
    }
   ],
   "source": [
    "y_predicted_new2 = [min(i, 1-epsilon) for i in y_predicted_new]\n",
    "y_predicted_new2"
   ]
  },
  {
   "cell_type": "code",
   "execution_count": 23,
   "id": "16668af4",
   "metadata": {},
   "outputs": [
    {
     "data": {
      "text/plain": [
       "list"
      ]
     },
     "execution_count": 23,
     "metadata": {},
     "output_type": "execute_result"
    }
   ],
   "source": [
    "type(y_predicted_new2)"
   ]
  },
  {
   "cell_type": "code",
   "execution_count": 24,
   "id": "9ef52e41",
   "metadata": {},
   "outputs": [
    {
     "data": {
      "text/plain": [
       "array([-9.99200722e-16, -9.99200722e-16, -3.45387764e+01, -3.45387764e+01,\n",
       "       -9.99200722e-16])"
      ]
     },
     "execution_count": 24,
     "metadata": {},
     "output_type": "execute_result"
    }
   ],
   "source": [
    "y_predicted_new2 = np.array(y_predicted_new2)\n",
    "np.log(y_predicted_new2)"
   ]
  },
  {
   "cell_type": "code",
   "execution_count": 25,
   "id": "9ca0f619",
   "metadata": {},
   "outputs": [
    {
     "data": {
      "text/plain": [
       "17.2696280766844"
      ]
     },
     "execution_count": 25,
     "metadata": {},
     "output_type": "execute_result"
    }
   ],
   "source": [
    "-np.mean(y_true*np.log(y_predicted_new2)+(1-y_true)*np.log(1-y_predicted_new2))"
   ]
  },
  {
   "cell_type": "code",
   "execution_count": 26,
   "id": "b7beef48",
   "metadata": {},
   "outputs": [],
   "source": [
    "## all the above operations in one single fucntion"
   ]
  },
  {
   "cell_type": "code",
   "execution_count": 29,
   "id": "7e6e3ceb",
   "metadata": {},
   "outputs": [],
   "source": [
    "def log_loss(y_true, y_predicted):\n",
    "    epsilon = 1e-15\n",
    "    y_predicted_new = [max(i, epsilon) for i in y_predicted]\n",
    "    y_predicted_new = [min(i, 1-epsilon) for i in y_predicted_new]\n",
    "    y_predicted_new = np.array(y_predicted_new)\n",
    "    return -np.mean(y_true*np.log(y_predicted_new2)+(1-y_true)*np.log(1-y_predicted_new2))"
   ]
  },
  {
   "cell_type": "code",
   "execution_count": 30,
   "id": "7ae630b2",
   "metadata": {},
   "outputs": [
    {
     "data": {
      "text/plain": [
       "17.2696280766844"
      ]
     },
     "execution_count": 30,
     "metadata": {},
     "output_type": "execute_result"
    }
   ],
   "source": [
    "log_loss(y_true, y_predicted)"
   ]
  },
  {
   "cell_type": "code",
   "execution_count": null,
   "id": "dd1ed606",
   "metadata": {},
   "outputs": [],
   "source": []
  }
 ],
 "metadata": {
  "kernelspec": {
   "display_name": "Python 3 (ipykernel)",
   "language": "python",
   "name": "python3"
  },
  "language_info": {
   "codemirror_mode": {
    "name": "ipython",
    "version": 3
   },
   "file_extension": ".py",
   "mimetype": "text/x-python",
   "name": "python",
   "nbconvert_exporter": "python",
   "pygments_lexer": "ipython3",
   "version": "3.10.3"
  }
 },
 "nbformat": 4,
 "nbformat_minor": 5
}
